{
 "cells": [
  {
   "cell_type": "markdown",
   "metadata": {},
   "source": [
    "Write a Python program to find sum of elements in list?"
   ]
  },
  {
   "cell_type": "code",
   "execution_count": 2,
   "metadata": {},
   "outputs": [
    {
     "name": "stdout",
     "output_type": "stream",
     "text": [
      "Enter the input list[1,2,3,4,5,6,7,8,9,10]\n",
      "The sum of elements in a given list  55\n"
     ]
    }
   ],
   "source": [
    "l = eval(input(\"Enter the input list\"))\n",
    "s = 0\n",
    "for i in l:\n",
    "    s = s+i\n",
    "print(\"The sum of elements in a given list \",s)"
   ]
  },
  {
   "cell_type": "markdown",
   "metadata": {},
   "source": [
    "Write a Python program to Multiply all numbers in the list?"
   ]
  },
  {
   "cell_type": "code",
   "execution_count": 3,
   "metadata": {},
   "outputs": [
    {
     "name": "stdout",
     "output_type": "stream",
     "text": [
      "Enter the input list[5,5,5,5]\n",
      "The multiplication of elements in a given list  625\n"
     ]
    }
   ],
   "source": [
    "l = eval(input(\"Enter the input list\"))\n",
    "m = 1\n",
    "for i in l:\n",
    "    m = m*i\n",
    "print(\"The multiplication of elements in a given list \",m)"
   ]
  },
  {
   "cell_type": "markdown",
   "metadata": {},
   "source": [
    "Write a Python program to find smallest number in a list?"
   ]
  },
  {
   "cell_type": "code",
   "execution_count": 5,
   "metadata": {},
   "outputs": [
    {
     "name": "stdout",
     "output_type": "stream",
     "text": [
      "Enter the input list[19,56,35,134,17,678]\n",
      "The smallest number in a given list is  17\n"
     ]
    }
   ],
   "source": [
    "l = eval(input(\"Enter the input list\"))\n",
    "l.sort()\n",
    "print(\"The smallest number in a given list is \",l[0])"
   ]
  },
  {
   "cell_type": "markdown",
   "metadata": {},
   "source": [
    "Write a Python program to find largest number in a list?"
   ]
  },
  {
   "cell_type": "code",
   "execution_count": 6,
   "metadata": {},
   "outputs": [
    {
     "name": "stdout",
     "output_type": "stream",
     "text": [
      "Enter the input list[19,56,35,134,17,678]\n",
      "The largest number in a given list is  678\n"
     ]
    }
   ],
   "source": [
    "l = eval(input(\"Enter the input list\"))\n",
    "l.sort()\n",
    "print(\"The largest number in a given list is \",l[-1])"
   ]
  },
  {
   "cell_type": "markdown",
   "metadata": {},
   "source": [
    "Write a Python program to find second largest number in a list?"
   ]
  },
  {
   "cell_type": "code",
   "execution_count": 7,
   "metadata": {},
   "outputs": [
    {
     "name": "stdout",
     "output_type": "stream",
     "text": [
      "Enter the input list[19,56,35,134,17,678]\n",
      "The second largest number in a given list is  134\n"
     ]
    }
   ],
   "source": [
    "l = eval(input(\"Enter the input list\"))\n",
    "l.sort()\n",
    "print(\"The second largest number in a given list is \",l[-2])"
   ]
  },
  {
   "cell_type": "markdown",
   "metadata": {},
   "source": [
    "Write a Python program to find N largest elements from a list?"
   ]
  },
  {
   "cell_type": "code",
   "execution_count": 9,
   "metadata": {},
   "outputs": [
    {
     "name": "stdout",
     "output_type": "stream",
     "text": [
      "Enter the input list[19,56,35,134,17,678]\n",
      "Enter the value of n 3\n",
      "[17, 19, 35, 56, 134, 678]\n",
      "The 3 largest elements from a list are [56, 134, 678]\n"
     ]
    }
   ],
   "source": [
    "l = eval(input(\"Enter the input list\"))\n",
    "n = int(input(\"Enter the value of n \"))\n",
    "l.sort()\n",
    "print(l)\n",
    "print(\"The {0} largest elements from a list are {1}\".format(n,l[-n:]))"
   ]
  },
  {
   "cell_type": "markdown",
   "metadata": {},
   "source": [
    "Write a Python program to print even numbers in a list?"
   ]
  },
  {
   "cell_type": "code",
   "execution_count": 10,
   "metadata": {},
   "outputs": [
    {
     "name": "stdout",
     "output_type": "stream",
     "text": [
      "Enter the input list[19,56,35,134,17,678]\n",
      "Even numbers present in the list are  [56, 134, 678]\n"
     ]
    }
   ],
   "source": [
    "l = eval(input(\"Enter the input list\"))\n",
    "l1 = []\n",
    "for i in l:\n",
    "    if i%2==0:\n",
    "        l1.append(i)\n",
    "print(\"Even numbers present in the list are \",l1)"
   ]
  },
  {
   "cell_type": "markdown",
   "metadata": {},
   "source": [
    "Write a Python program to print odd numbers in a List?"
   ]
  },
  {
   "cell_type": "code",
   "execution_count": 11,
   "metadata": {},
   "outputs": [
    {
     "name": "stdout",
     "output_type": "stream",
     "text": [
      "Enter the input list[19,56,35,134,17,678]\n",
      "Odd numbers present in the list are  [19, 35, 17]\n"
     ]
    }
   ],
   "source": [
    "l = eval(input(\"Enter the input list\"))\n",
    "l1 = []\n",
    "for i in l:\n",
    "    if i%2!=0:\n",
    "        l1.append(i)\n",
    "print(\"Odd numbers present in the list are \",l1)"
   ]
  },
  {
   "cell_type": "markdown",
   "metadata": {},
   "source": [
    "Write a Python program to Remove empty List from List?"
   ]
  },
  {
   "cell_type": "code",
   "execution_count": 12,
   "metadata": {},
   "outputs": [
    {
     "name": "stdout",
     "output_type": "stream",
     "text": [
      "Enter the input[1,2,3,[],5,[],7,[],8]\n",
      "Odd numbers present in the list are  [1, 2, 3, 5, 7, 8]\n"
     ]
    }
   ],
   "source": [
    "l = eval(input(\"Enter the input\"))\n",
    "l1 = []\n",
    "for i in l:\n",
    "    if i!=[]:\n",
    "        l1.append(i)\n",
    "print(\"Odd numbers present in the list are \",l1)"
   ]
  },
  {
   "cell_type": "markdown",
   "metadata": {},
   "source": [
    "Write a Python program to Cloning or Copying a list?"
   ]
  },
  {
   "cell_type": "code",
   "execution_count": 16,
   "metadata": {},
   "outputs": [
    {
     "name": "stdout",
     "output_type": "stream",
     "text": [
      "Enter the input list[1,2,3,4,5,6,7,8,9,0]\n",
      "Copy of input list is  [1,2,3,4,5,6,7,8,9,0]\n"
     ]
    }
   ],
   "source": [
    "import copy\n",
    "l1 = input(\"Enter the input list\")\n",
    "l2 = copy.copy(l1)\n",
    "print(\"Copy of input list is \",l2)"
   ]
  },
  {
   "cell_type": "markdown",
   "metadata": {},
   "source": [
    "Write a Python program to Count occurrences of an element in a list?"
   ]
  },
  {
   "cell_type": "code",
   "execution_count": 22,
   "metadata": {},
   "outputs": [
    {
     "name": "stdout",
     "output_type": "stream",
     "text": [
      "Enter the input list[1,1,2,2,2,3,3,3,3,4,5,6,7,8,9]\n",
      "1 element occured 2 times\n",
      "2 element occured 3 times\n",
      "3 element occured 4 times\n",
      "4 element occured 1 times\n",
      "5 element occured 1 times\n",
      "6 element occured 1 times\n",
      "7 element occured 1 times\n",
      "8 element occured 1 times\n",
      "9 element occured 1 times\n"
     ]
    }
   ],
   "source": [
    "l1 = eval(input(\"Enter the input list\"))\n",
    "s1 = set(l1)\n",
    "for i in s1:\n",
    "    print(\"{0} element occured {1} times\".format(i,l1.count(i)))"
   ]
  },
  {
   "cell_type": "code",
   "execution_count": null,
   "metadata": {},
   "outputs": [],
   "source": []
  }
 ],
 "metadata": {
  "kernelspec": {
   "display_name": "Python 3",
   "language": "python",
   "name": "python3"
  },
  "language_info": {
   "codemirror_mode": {
    "name": "ipython",
    "version": 3
   },
   "file_extension": ".py",
   "mimetype": "text/x-python",
   "name": "python",
   "nbconvert_exporter": "python",
   "pygments_lexer": "ipython3",
   "version": "3.7.1"
  }
 },
 "nbformat": 4,
 "nbformat_minor": 2
}
