{
 "cells": [
  {
   "cell_type": "markdown",
   "metadata": {},
   "source": [
    "Write a Python Program to Add Two Matrices?"
   ]
  },
  {
   "cell_type": "code",
   "execution_count": 6,
   "metadata": {},
   "outputs": [
    {
     "name": "stdout",
     "output_type": "stream",
     "text": [
      "Enter first Matrix of size 3x3 [[1,2,3],[1,2,3],[1,2,3]]\n",
      "Enter second Matrix of size 3x3 [[3,2,1],[3,2,1],[3,2,1]]\n",
      "[[4, 4, 0], [4, 4, 0], [4, 4, 0]]\n"
     ]
    }
   ],
   "source": [
    "mat1 = eval(input(\"Enter first Matrix of size 3x3 \"))\n",
    "mat2 = eval(input(\"Enter second Matrix of size 3x3 \"))\n",
    "res = [[0,0,0],[0,0,0],[0,0,0]]\n",
    "for i in range(len(mat1)):\n",
    "    for j in range(len(mat1[0])-1):\n",
    "        res[i][j] = mat1[i][j]+mat2[i][j]\n",
    "print(res)"
   ]
  },
  {
   "cell_type": "markdown",
   "metadata": {},
   "source": [
    "Write a Python Program to Multiply Two Matrices?"
   ]
  },
  {
   "cell_type": "code",
   "execution_count": 7,
   "metadata": {},
   "outputs": [
    {
     "name": "stdout",
     "output_type": "stream",
     "text": [
      "Enter first Matrix of size 3x3 [[12,8,4],[3,17,14],[9,8,10]]\n",
      "Enter second Matrix of size 3x3 [[5,19,3],[6,15,9],[7,8,16]]\n",
      "[[136, 380, 172], [215, 424, 386], [163, 371, 259]]\n"
     ]
    }
   ],
   "source": [
    "mat1 = eval(input(\"Enter first Matrix of size 3x3 \"))\n",
    "mat2 = eval(input(\"Enter second Matrix of size 3x3 \"))\n",
    "res = [[0,0,0],[0,0,0],[0,0,0]]\n",
    "for i in range(len(mat1)):\n",
    "    for j in range(len(mat2[0])):\n",
    "        for k in range(len(mat2)):\n",
    "            res[i][j] = res[i][j] + mat1[i][k]*mat2[k][j]\n",
    "print(res)\n",
    "        \n"
   ]
  },
  {
   "cell_type": "markdown",
   "metadata": {},
   "source": [
    "Write a Python Program to Transpose a Matrix?"
   ]
  },
  {
   "cell_type": "code",
   "execution_count": 9,
   "metadata": {},
   "outputs": [
    {
     "name": "stdout",
     "output_type": "stream",
     "text": [
      "Enter 3x3 matrix[[1,2,3],[4,5,6],[7,8,9]]\n",
      "[[1, 4, 7], [2, 5, 8], [3, 6, 9]]\n"
     ]
    }
   ],
   "source": [
    "mat = eval(input(\"Enter 3x3 matrix\"))\n",
    "mat_t = [[0,0,0],[0,0,0],[0,0,0]]\n",
    "for i in range(len(mat)):\n",
    "    for j in range(len(mat[0])):\n",
    "        mat_t[i][j] = mat[j][i]\n",
    "print(mat_t)\n",
    "        "
   ]
  },
  {
   "cell_type": "markdown",
   "metadata": {},
   "source": [
    "Write a Python Program to Sort Words in Alphabetic Order?"
   ]
  },
  {
   "cell_type": "code",
   "execution_count": 10,
   "metadata": {},
   "outputs": [
    {
     "name": "stdout",
     "output_type": "stream",
     "text": [
      "Enter words in list format['Apple','Aeroplane','Zebra','Zoo','Caterpillar','Cat','ant','boxer']\n",
      "['Aeroplane', 'Apple', 'Cat', 'Caterpillar', 'Zebra', 'Zoo', 'ant', 'boxer']\n"
     ]
    }
   ],
   "source": [
    "l1 = eval(input(\"Enter words in list format\"))\n",
    "l1.sort()\n",
    "print(l1)"
   ]
  },
  {
   "cell_type": "code",
   "execution_count": 11,
   "metadata": {},
   "outputs": [
    {
     "name": "stdout",
     "output_type": "stream",
     "text": [
      "Object `String` not found.\n"
     ]
    }
   ],
   "source": [
    "Write a Python Program to Remove Punctuation From a String?"
   ]
  },
  {
   "cell_type": "markdown",
   "metadata": {},
   "source": [
    "Write a Python Program to Remove Punctuation From a String"
   ]
  },
  {
   "cell_type": "code",
   "execution_count": 16,
   "metadata": {},
   "outputs": [
    {
     "name": "stdout",
     "output_type": "stream",
     "text": [
      "Enter a String with Punctuations\"These , are ! Apple's\"\n",
      "These  are  Apples\n"
     ]
    }
   ],
   "source": [
    "import re\n",
    "s1 = input(\"Enter a String with Punctuations\")\n",
    "s2 = re.sub(r'[^\\w\\s]',\"\",s1)\n",
    "print(s2)"
   ]
  },
  {
   "cell_type": "code",
   "execution_count": null,
   "metadata": {},
   "outputs": [],
   "source": []
  }
 ],
 "metadata": {
  "kernelspec": {
   "display_name": "Python 3",
   "language": "python",
   "name": "python3"
  },
  "language_info": {
   "codemirror_mode": {
    "name": "ipython",
    "version": 3
   },
   "file_extension": ".py",
   "mimetype": "text/x-python",
   "name": "python",
   "nbconvert_exporter": "python",
   "pygments_lexer": "ipython3",
   "version": "3.7.1"
  }
 },
 "nbformat": 4,
 "nbformat_minor": 2
}
