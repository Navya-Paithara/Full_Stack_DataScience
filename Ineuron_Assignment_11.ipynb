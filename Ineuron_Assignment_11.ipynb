{
 "cells": [
  {
   "cell_type": "markdown",
   "metadata": {},
   "source": [
    "Write a Python program to find words which are greater than given length k?"
   ]
  },
  {
   "cell_type": "code",
   "execution_count": 2,
   "metadata": {},
   "outputs": [
    {
     "name": "stdout",
     "output_type": "stream",
     "text": [
      "Enter list of strings['abcd','efghij','asdf','ert','asdf','ert']\n",
      "Enter length variable3\n",
      "['abcd', 'efghij', 'asdf', 'asdf']\n"
     ]
    }
   ],
   "source": [
    "l1 = eval(input(\"Enter list of strings\"))\n",
    "k = int(input(\"Enter length variable\"))\n",
    "l2 = []\n",
    "for i in l1:\n",
    "    if len(i)>k:\n",
    "        l2.append(i)\n",
    "print(l2)"
   ]
  },
  {
   "cell_type": "markdown",
   "metadata": {},
   "source": [
    "Write a Python program for removing i-th character from a string?"
   ]
  },
  {
   "cell_type": "code",
   "execution_count": 5,
   "metadata": {},
   "outputs": [
    {
     "name": "stdout",
     "output_type": "stream",
     "text": [
      "Enter the string'Machine Learning'\n",
      "Enter the character to be removeda\n",
      "'Mchine Lerning'\n"
     ]
    }
   ],
   "source": [
    "s = input(\"Enter the string\")\n",
    "r = input(\"Enter the character to be removed\")\n",
    "s1 = s.replace(r,'')\n",
    "print(s1)"
   ]
  },
  {
   "cell_type": "markdown",
   "metadata": {},
   "source": [
    "Write a Python program to split and join a string?"
   ]
  },
  {
   "cell_type": "code",
   "execution_count": 8,
   "metadata": {},
   "outputs": [
    {
     "name": "stdout",
     "output_type": "stream",
     "text": [
      "Enter input string \"MachineLearning ArtificialIntelligence DataScience\"\n",
      "String after splitting with delimeter as space  ['\"MachineLearning', 'ArtificialIntelligence', 'DataScience\"']\n",
      "String after joining with ** characters  \"MachineLearning**ArtificialIntelligence**DataScience\"\n"
     ]
    }
   ],
   "source": [
    "s2 = input(\"Enter input string \")\n",
    "print(\"String after splitting with delimeter as space \",s2.split(\" \"))\n",
    "print(\"String after joining with ** characters \",\"**\".join(s2.split()))"
   ]
  },
  {
   "cell_type": "markdown",
   "metadata": {},
   "source": [
    "Write a Python to check if a given string is binary string or not?"
   ]
  },
  {
   "cell_type": "code",
   "execution_count": 10,
   "metadata": {},
   "outputs": [
    {
     "name": "stdout",
     "output_type": "stream",
     "text": [
      "Enter input string 1010111\n",
      "1010111\n",
      "1010111 is a binary string \n"
     ]
    }
   ],
   "source": [
    "s3 = input(\"Enter input string \")\n",
    "t = \"01\"\n",
    "count = 0\n",
    "for i in s3:\n",
    "    if i not in t:\n",
    "        count = count+1\n",
    "    else:\n",
    "        pass\n",
    "if count==0:\n",
    "    print(\"{0} is a binary string \".format(s3))\n",
    "else:\n",
    "    print(\"{0} is not a binary string \".format(s3))\n"
   ]
  },
  {
   "cell_type": "markdown",
   "metadata": {},
   "source": [
    "Write a Python program to find uncommon words from two Strings?"
   ]
  },
  {
   "cell_type": "code",
   "execution_count": 12,
   "metadata": {},
   "outputs": [
    {
     "name": "stdout",
     "output_type": "stream",
     "text": [
      "Enter first list India became independent on August 15th 1947\n",
      "Enter second listIndia became republic on 26th January 1950\n",
      "The list of uncommom words in two strings is  ['independent', 'August', '15th', '1947', 'republic', '26th', 'January', '1950']\n"
     ]
    }
   ],
   "source": [
    "str_1 = input(\"Enter first list \")\n",
    "str_2 = input(\"Enter second list\")\n",
    "l1 = str_1.split()\n",
    "l2 = str_2.split()\n",
    "l3 = []\n",
    "for i in l1:\n",
    "    if i not in l2:\n",
    "        l3.append(i)\n",
    "for j in l2:\n",
    "    if j not in l1:\n",
    "        l3.append(j)\n",
    "print(\"The list of uncommom words in two strings is \",l3)"
   ]
  },
  {
   "cell_type": "markdown",
   "metadata": {},
   "source": [
    "Write a Python to find all duplicate characters in string?"
   ]
  },
  {
   "cell_type": "code",
   "execution_count": 18,
   "metadata": {},
   "outputs": [
    {
     "name": "stdout",
     "output_type": "stream",
     "text": [
      "Enter a String Encyclopedia\n",
      "The duplicate characters in a string are \n",
      "c\n"
     ]
    }
   ],
   "source": [
    "str_3 = input(\"Enter a String \")\n",
    "set_s3 = set(str_3)\n",
    "print(\"The duplicate characters in a string are \")\n",
    "for i in set_s3:\n",
    "    if str_3.count(i)>1:\n",
    "        print(i)"
   ]
  },
  {
   "cell_type": "markdown",
   "metadata": {},
   "source": [
    "Write a Python Program to check if a string contains any special character?"
   ]
  },
  {
   "cell_type": "code",
   "execution_count": 24,
   "metadata": {},
   "outputs": [
    {
     "name": "stdout",
     "output_type": "stream",
     "text": [
      "Enter a String Apples#Banana@Mango%guava\n",
      "Apples#Banana@Mango%guava string contain special character \n"
     ]
    }
   ],
   "source": [
    "str_4 = input(\"Enter a String \")\n",
    "if str_4.isalnum():\n",
    "    print(\"{0} string doesnot contain special character \".format(str_4))\n",
    "else:\n",
    "    print(\"{0} string contain special character \".format(str_4))"
   ]
  },
  {
   "cell_type": "code",
   "execution_count": null,
   "metadata": {},
   "outputs": [],
   "source": []
  }
 ],
 "metadata": {
  "kernelspec": {
   "display_name": "Python 3",
   "language": "python",
   "name": "python3"
  },
  "language_info": {
   "codemirror_mode": {
    "name": "ipython",
    "version": 3
   },
   "file_extension": ".py",
   "mimetype": "text/x-python",
   "name": "python",
   "nbconvert_exporter": "python",
   "pygments_lexer": "ipython3",
   "version": "3.7.1"
  }
 },
 "nbformat": 4,
 "nbformat_minor": 2
}
