{
 "cells": [
  {
   "cell_type": "markdown",
   "metadata": {},
   "source": [
    "1.\tWrite a Python Program to find sum of array?"
   ]
  },
  {
   "cell_type": "code",
   "execution_count": 10,
   "metadata": {},
   "outputs": [
    {
     "name": "stdout",
     "output_type": "stream",
     "text": [
      "Enter the array[1,2,3,4,5]\n",
      "The sum of elements for the given array is  15\n"
     ]
    }
   ],
   "source": [
    "a = eval(input(\"Enter the array\"))\n",
    "b = 0\n",
    "for i in a:\n",
    "    b= b+i\n",
    "print(\"The sum of elements for the given array is \",b)\n",
    "    "
   ]
  },
  {
   "cell_type": "markdown",
   "metadata": {},
   "source": [
    "2.\tWrite a Python Program to find largest element in an array?"
   ]
  },
  {
   "cell_type": "code",
   "execution_count": 12,
   "metadata": {},
   "outputs": [
    {
     "name": "stdout",
     "output_type": "stream",
     "text": [
      "Enter the array [56,34,234,1,89]\n",
      "The largest element in the array is  234\n"
     ]
    }
   ],
   "source": [
    "a = eval(input(\"Enter the array \"))\n",
    "a.sort()\n",
    "print(\"The largest element in the array is \",a[-1])"
   ]
  },
  {
   "cell_type": "markdown",
   "metadata": {},
   "source": [
    "3.\tWrite a Python Program for array rotation?"
   ]
  },
  {
   "cell_type": "code",
   "execution_count": 13,
   "metadata": {},
   "outputs": [
    {
     "name": "stdout",
     "output_type": "stream",
     "text": [
      "Enter the array [1,2,3,4,5]\n",
      "Array rotation  [5, 4, 3, 2, 1]\n"
     ]
    }
   ],
   "source": [
    "a = eval(input(\"Enter the array \"))\n",
    "print(\"Array rotation \",a[::-1])"
   ]
  },
  {
   "cell_type": "markdown",
   "metadata": {},
   "source": [
    "4.\tWrite a Python Program to Split the array and add the first part to the end?"
   ]
  },
  {
   "cell_type": "code",
   "execution_count": 18,
   "metadata": {},
   "outputs": [
    {
     "name": "stdout",
     "output_type": "stream",
     "text": [
      "Enter the array [1,2,3,4,5,6,7,8,9]\n",
      "Enter the position at which you want to split3\n",
      "Array after splitting and adding the first part to end is  [4, 5, 6, 7, 8, 9, 1, 2, 3]\n"
     ]
    }
   ],
   "source": [
    "a = eval(input(\"Enter the array \"))\n",
    "b = eval(input(\"Enter the position at which you want to split \"))\n",
    "print(\"Array after splitting and adding the first part to end is \",a[b:]+a[:b])"
   ]
  },
  {
   "cell_type": "markdown",
   "metadata": {},
   "source": [
    "5.\tWrite a Python Program to check if given array is Monotonic?"
   ]
  },
  {
   "cell_type": "code",
   "execution_count": 24,
   "metadata": {},
   "outputs": [
    {
     "name": "stdout",
     "output_type": "stream",
     "text": [
      "Enter the array[3,1,2,6,7,8,9,0]\n",
      "Given array is not Monotonic\n"
     ]
    }
   ],
   "source": [
    "a = eval(input(\"Enter the array\"))\n",
    "count = 0\n",
    "for i in range(len(a)-1):\n",
    "    if a[i]<a[i+1]:\n",
    "        count = count+1\n",
    "if count==len(a)-1:\n",
    "    print(\"Given array is Monotonic\")\n",
    "else:\n",
    "    print(\"Given array is not Monotonic\")\n",
    "        "
   ]
  },
  {
   "cell_type": "code",
   "execution_count": null,
   "metadata": {},
   "outputs": [],
   "source": []
  }
 ],
 "metadata": {
  "kernelspec": {
   "display_name": "Python 3",
   "language": "python",
   "name": "python3"
  },
  "language_info": {
   "codemirror_mode": {
    "name": "ipython",
    "version": 3
   },
   "file_extension": ".py",
   "mimetype": "text/x-python",
   "name": "python",
   "nbconvert_exporter": "python",
   "pygments_lexer": "ipython3",
   "version": "3.7.1"
  }
 },
 "nbformat": 4,
 "nbformat_minor": 2
}
