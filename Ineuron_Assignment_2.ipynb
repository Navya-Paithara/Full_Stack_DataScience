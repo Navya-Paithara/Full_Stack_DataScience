{
 "cells": [
  {
   "cell_type": "markdown",
   "metadata": {},
   "source": [
    "Write a Python program to convert kilometers to miles?"
   ]
  },
  {
   "cell_type": "code",
   "execution_count": 9,
   "metadata": {},
   "outputs": [
    {
     "name": "stdout",
     "output_type": "stream",
     "text": [
      "Enter the kilometers25\n",
      "25 kilometers in miles is 15.534999999999998 \n"
     ]
    }
   ],
   "source": [
    "#1km = 0.6214 miles\n",
    "a = int(input(\"Enter the kilometers\"))\n",
    "b = a*0.6214\n",
    "print(\"{0} kilometers in miles is {1} \".format(a,b))"
   ]
  },
  {
   "cell_type": "markdown",
   "metadata": {},
   "source": [
    "Write a Python program to convert Celsius to Fahrenheit?"
   ]
  },
  {
   "cell_type": "code",
   "execution_count": 10,
   "metadata": {},
   "outputs": [
    {
     "name": "stdout",
     "output_type": "stream",
     "text": [
      "Enter a value100\n",
      "100 Fahrenheit equivalent to celsius is 212.0\n"
     ]
    }
   ],
   "source": [
    "#Fahrenheit = celsius*1.8 + 32\n",
    "a = int(input(\"Enter a value\"))\n",
    "b = a*1.8 + 32\n",
    "print(\"{0} Fahrenheit equivalent to celsius is {1}\".format(a,b))"
   ]
  },
  {
   "cell_type": "markdown",
   "metadata": {},
   "source": [
    "Write a Python program to display calendar?"
   ]
  },
  {
   "cell_type": "code",
   "execution_count": 11,
   "metadata": {},
   "outputs": [
    {
     "name": "stdout",
     "output_type": "stream",
     "text": [
      "Enter the year2022\n",
      "Enter month11\n",
      "   November 2022\n",
      "Mo Tu We Th Fr Sa Su\n",
      "    1  2  3  4  5  6\n",
      " 7  8  9 10 11 12 13\n",
      "14 15 16 17 18 19 20\n",
      "21 22 23 24 25 26 27\n",
      "28 29 30\n",
      "\n"
     ]
    }
   ],
   "source": [
    "import calendar\n",
    "year = int(input(\"Enter the year\"))\n",
    "month = int(input(\"Enter month\"))\n",
    "print(calendar.month(year,month))"
   ]
  },
  {
   "cell_type": "markdown",
   "metadata": {},
   "source": [
    "Write a Python program to solve quadratic equation?"
   ]
  },
  {
   "cell_type": "code",
   "execution_count": 15,
   "metadata": {},
   "outputs": [
    {
     "name": "stdout",
     "output_type": "stream",
     "text": [
      "Enter a Value1\n",
      "Enter b value10\n",
      "Enter c value1\n",
      "The solutions are (-9.898979485566356+0j) and (-0.10102051443364424+0j) \n"
     ]
    }
   ],
   "source": [
    "# ax^2+bx+c  Discriminant b^2-4ac\n",
    "import cmath\n",
    "a = int(input(\"Enter a Value\"))\n",
    "b = int(input(\"Enter b value\"))\n",
    "c = int(input(\"Enter c value\"))\n",
    "d = (b**2-4*a*c)\n",
    "root1 = (-b-cmath.sqrt(d))/2*a\n",
    "root2 = (-b+cmath.sqrt(d))/2*a\n",
    "print(\"The solutions are {0} and {1} \".format(root1,root2))"
   ]
  },
  {
   "cell_type": "markdown",
   "metadata": {},
   "source": [
    "Write a Python program to swap two variables without temp variable?"
   ]
  },
  {
   "cell_type": "code",
   "execution_count": 8,
   "metadata": {},
   "outputs": [
    {
     "name": "stdout",
     "output_type": "stream",
     "text": [
      "Enter value of x10\n",
      "Enter value of y20\n",
      "Value of x before swapping  10\n",
      "Value of y before swapping  20\n",
      "Value of x after swapping  20\n",
      "Value of y after swapping  10\n"
     ]
    }
   ],
   "source": [
    "x = int(input(\"Enter value of x\"))\n",
    "y = int(input(\"Enter value of y\"))\n",
    "print(\"Value of x before swapping \", x)\n",
    "print(\"Value of y before swapping \", y)\n",
    "x= x+y\n",
    "y = x-y\n",
    "x = x-y\n",
    "print(\"Value of x after swapping \", x)\n",
    "print(\"Value of y after swapping \", y)"
   ]
  },
  {
   "cell_type": "code",
   "execution_count": null,
   "metadata": {},
   "outputs": [],
   "source": []
  }
 ],
 "metadata": {
  "kernelspec": {
   "display_name": "Python 3",
   "language": "python",
   "name": "python3"
  },
  "language_info": {
   "codemirror_mode": {
    "name": "ipython",
    "version": 3
   },
   "file_extension": ".py",
   "mimetype": "text/x-python",
   "name": "python",
   "nbconvert_exporter": "python",
   "pygments_lexer": "ipython3",
   "version": "3.7.1"
  }
 },
 "nbformat": 4,
 "nbformat_minor": 2
}
