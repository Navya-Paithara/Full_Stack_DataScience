{
 "cells": [
  {
   "cell_type": "markdown",
   "metadata": {},
   "source": [
    "1.\tWrite a Python Program to Find LCM?"
   ]
  },
  {
   "cell_type": "code",
   "execution_count": 7,
   "metadata": {},
   "outputs": [
    {
     "name": "stdout",
     "output_type": "stream",
     "text": [
      "Enter first number4\n",
      "Enter second number6\n",
      "The lcm of 4 and 6 is 12 \n"
     ]
    }
   ],
   "source": [
    "x = int(input(\"Enter first number\"))\n",
    "y = int(input(\"Enter second number\"))\n",
    "if x>y:\n",
    "    a = x\n",
    "else:\n",
    "    a = y\n",
    "while(True):\n",
    "    \n",
    "    if a%x==0 and a%y == 0:\n",
    "        lcm = a\n",
    "        break\n",
    "    else:\n",
    "        a = a+1\n",
    "print(\"The lcm of {0} and {1} is {2} \".format(x,y,lcm))"
   ]
  },
  {
   "cell_type": "markdown",
   "metadata": {},
   "source": [
    "2.\tWrite a Python Program to Find HCF?"
   ]
  },
  {
   "cell_type": "code",
   "execution_count": 10,
   "metadata": {},
   "outputs": [
    {
     "name": "stdout",
     "output_type": "stream",
     "text": [
      "Enter first number4\n",
      "Enter second number6\n",
      "HCF of 4 and 6 is 2 \n"
     ]
    }
   ],
   "source": [
    "x = int(input(\"Enter first number\"))\n",
    "y = int(input(\"Enter second number\"))\n",
    "if x>y:\n",
    "    a = y\n",
    "else:\n",
    "    a = x\n",
    "for i in range(1,a+1):\n",
    "    if x%i==0 and y%i == 0:\n",
    "        hcf = i\n",
    "print(\"HCF of {0} and {1} is {2} \".format(x,y,hcf))\n"
   ]
  },
  {
   "cell_type": "markdown",
   "metadata": {},
   "source": [
    "3.\tWrite a Python Program to Convert Decimal to Binary, Octal and Hexadecimal?"
   ]
  },
  {
   "cell_type": "code",
   "execution_count": 14,
   "metadata": {},
   "outputs": [
    {
     "name": "stdout",
     "output_type": "stream",
     "text": [
      "Enter a Decimal Number100\n",
      "The binary conversion of given number is  0b1100100\n",
      "The Octal equivalent of given number is  0o144\n",
      "The hexadecimal equivalent of given number is  0x64\n"
     ]
    }
   ],
   "source": [
    "a = int(input(\"Enter a Decimal Number\"))\n",
    "print(\"The binary conversion of given number is \",bin(a))\n",
    "print(\"The Octal equivalent of given number is \",oct(a))\n",
    "print(\"The hexadecimal equivalent of given number is \",hex(a))"
   ]
  },
  {
   "cell_type": "markdown",
   "metadata": {},
   "source": [
    "4.\tWrite a Python Program To Find ASCII value of a character?"
   ]
  },
  {
   "cell_type": "code",
   "execution_count": 20,
   "metadata": {},
   "outputs": [
    {
     "name": "stdout",
     "output_type": "stream",
     "text": [
      "Enter valueB\n",
      "The ascii value of a given character is  66\n"
     ]
    }
   ],
   "source": [
    "a = input(\"Enter value\")\n",
    "print(\"The ascii value of a given character is \",ord(a))"
   ]
  },
  {
   "cell_type": "markdown",
   "metadata": {},
   "source": [
    "5.\tWrite a Python Program to Make a Simple Calculator with 4 basic mathematical operations?"
   ]
  },
  {
   "cell_type": "code",
   "execution_count": 34,
   "metadata": {},
   "outputs": [
    {
     "name": "stdout",
     "output_type": "stream",
     "text": [
      "Enter First number18\n",
      "Enter second number6\n",
      "Choose the operation you want to perform Add/Sub/Mult/DivDiv\n",
      "The addition of 18,6 is 3.0 \n"
     ]
    }
   ],
   "source": [
    "def Addition(a,b):\n",
    "    return a+b\n",
    "def Substraction(a,b):\n",
    "    return a-b\n",
    "def Multiplication(a,b):\n",
    "    return a*b\n",
    "def Division(a,b):\n",
    "    return a/b\n",
    "a = int(input(\"Enter First number\"))\n",
    "b = int(input(\"Enter second number\"))\n",
    "operation = input(\"Choose the operation you want to perform Add/Sub/Mult/Div\")\n",
    "if operation == \"Add\":\n",
    "    print(\"The addition of {0},{1} is {2} \".format(a,b,Addition(a,b)))\n",
    "if operation == \"Sub\":\n",
    "    print(\"The addition of {0},{1} is {2} \".format(a,b,Substraction(a,b)))\n",
    "if operation == \"Mult\":\n",
    "    print(\"The addition of {0},{1} is {2} \".format(a,b,Multiplication(a,b)))\n",
    "if operation == \"Div\":\n",
    "    print(\"The addition of {0},{1} is {2} \".format(a,b,Division(a,b)))\n",
    "else:\n",
    "    print(\"Please enter the valid operation with proper naming convention\")"
   ]
  },
  {
   "cell_type": "code",
   "execution_count": null,
   "metadata": {},
   "outputs": [],
   "source": []
  }
 ],
 "metadata": {
  "kernelspec": {
   "display_name": "Python 3",
   "language": "python",
   "name": "python3"
  },
  "language_info": {
   "codemirror_mode": {
    "name": "ipython",
    "version": 3
   },
   "file_extension": ".py",
   "mimetype": "text/x-python",
   "name": "python",
   "nbconvert_exporter": "python",
   "pygments_lexer": "ipython3",
   "version": "3.7.1"
  }
 },
 "nbformat": 4,
 "nbformat_minor": 2
}
