{
 "cells": [
  {
   "cell_type": "markdown",
   "metadata": {},
   "source": [
    "Write a Python program to print &quot;Hello Python&quot;?"
   ]
  },
  {
   "cell_type": "code",
   "execution_count": 1,
   "metadata": {},
   "outputs": [
    {
     "name": "stdout",
     "output_type": "stream",
     "text": [
      "Hello Python\n"
     ]
    }
   ],
   "source": [
    "print(\"Hello Python\")"
   ]
  },
  {
   "cell_type": "markdown",
   "metadata": {},
   "source": [
    "Write a Python program to do arithmetical operations addition and division.?"
   ]
  },
  {
   "cell_type": "code",
   "execution_count": 2,
   "metadata": {},
   "outputs": [
    {
     "name": "stdout",
     "output_type": "stream",
     "text": [
      "Enter a value10\n",
      "Enter b value5\n",
      "Addition operation  15\n",
      "Dvision operation 2.0\n"
     ]
    }
   ],
   "source": [
    "a = int(input(\"Enter a value\"))\n",
    "b = int(input(\"Enter b value\"))\n",
    "print(\"Addition operation \",a+b)\n",
    "print(\"Dvision operation\" ,a/b)"
   ]
  },
  {
   "cell_type": "markdown",
   "metadata": {},
   "source": [
    "Write a Python program to find the area of a triangle?"
   ]
  },
  {
   "cell_type": "code",
   "execution_count": 3,
   "metadata": {},
   "outputs": [
    {
     "name": "stdout",
     "output_type": "stream",
     "text": [
      "Enter the base of a triangle10\n",
      "Enter the height of a triangle15\n",
      "Area of a triangle  75.0\n"
     ]
    }
   ],
   "source": [
    "#Area of triangle 1/2*base*height\n",
    "base = int(input(\"Enter the base of a triangle\"))\n",
    "height = int(input(\"Enter the height of a triangle\"))\n",
    "Area = 1/2*base*height\n",
    "print(\"Area of a triangle \",Area);"
   ]
  },
  {
   "cell_type": "markdown",
   "metadata": {},
   "source": [
    "Write a Python program to swap two variables?"
   ]
  },
  {
   "cell_type": "code",
   "execution_count": 4,
   "metadata": {},
   "outputs": [
    {
     "name": "stdout",
     "output_type": "stream",
     "text": [
      "Enter x value10\n",
      "Enter y value20\n",
      "Value of x before swapping  10\n",
      "Value of y before swapping  20\n",
      "Value of x after swapping  20\n",
      "Value of y after swapping  10\n"
     ]
    }
   ],
   "source": [
    "x = int(input(\"Enter x value\"))\n",
    "y = int(input(\"Enter y value\"))\n",
    "print(\"Value of x before swapping \", x)\n",
    "print(\"Value of y before swapping \", y)\n",
    "temp = x\n",
    "x = y\n",
    "y = temp\n",
    "print(\"Value of x after swapping \", x)\n",
    "print(\"Value of y after swapping \", y)"
   ]
  },
  {
   "cell_type": "markdown",
   "metadata": {},
   "source": [
    "Write a Python program to generate a random number?"
   ]
  },
  {
   "cell_type": "code",
   "execution_count": 5,
   "metadata": {},
   "outputs": [
    {
     "name": "stdout",
     "output_type": "stream",
     "text": [
      "245\n"
     ]
    }
   ],
   "source": [
    "import random\n",
    "print(random.randint(0,1000))"
   ]
  },
  {
   "cell_type": "code",
   "execution_count": null,
   "metadata": {},
   "outputs": [],
   "source": []
  }
 ],
 "metadata": {
  "kernelspec": {
   "display_name": "Python 3",
   "language": "python",
   "name": "python3"
  },
  "language_info": {
   "codemirror_mode": {
    "name": "ipython",
    "version": 3
   },
   "file_extension": ".py",
   "mimetype": "text/x-python",
   "name": "python",
   "nbconvert_exporter": "python",
   "pygments_lexer": "ipython3",
   "version": "3.7.1"
  }
 },
 "nbformat": 4,
 "nbformat_minor": 2
}
